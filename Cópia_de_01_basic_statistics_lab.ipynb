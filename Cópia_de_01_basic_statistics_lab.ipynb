{
  "cells": [
    {
      "cell_type": "markdown",
      "metadata": {
        "id": "view-in-github",
        "colab_type": "text"
      },
      "source": [
        "<a href=\"https://colab.research.google.com/github/AlanFirmino2024/Introducao_a_ciencia_de_dados/blob/main/C%C3%B3pia_de_01_basic_statistics_lab.ipynb\" target=\"_parent\"><img src=\"https://colab.research.google.com/assets/colab-badge.svg\" alt=\"Open In Colab\"/></a>"
      ]
    },
    {
      "cell_type": "markdown",
      "id": "01f11313",
      "metadata": {
        "id": "01f11313"
      },
      "source": [
        "# Introduction to Basic Statistical Measures with Pandas\n",
        "This notebook will guide you through some basic statistical measures using the `pandas` library. We will cover:\n",
        "1. Mean\n",
        "2. Median\n",
        "3. Mode\n",
        "4. Standard Deviation\n",
        "5. Variance\n",
        "6. Quartiles and Percentiles"
      ]
    },
    {
      "cell_type": "markdown",
      "source": [
        "## Importing Necessary Libraries\n",
        "First, we will import the necessary libraries."
      ],
      "metadata": {
        "id": "dp-9DQOrMeA-"
      },
      "id": "dp-9DQOrMeA-"
    },
    {
      "cell_type": "code",
      "execution_count": null,
      "id": "593697cf",
      "metadata": {
        "id": "593697cf"
      },
      "outputs": [],
      "source": [
        "#Importando a biblioteca pandas e abreviando para deixar o código mais consiso\n",
        "import pandas as pd\n",
        "#Importando a biblioteca matplotlib e abreviando para deixar o código mais consiso\n",
        "import matplotlib.pyplot as plt"
      ]
    },
    {
      "cell_type": "markdown",
      "id": "69e9a8af",
      "metadata": {
        "id": "69e9a8af"
      },
      "source": [
        "## Creating the DataFrame\n",
        "Let's create a DataFrame with the data we will use in the examples."
      ]
    },
    {
      "cell_type": "code",
      "execution_count": null,
      "id": "6ce414f1",
      "metadata": {
        "id": "6ce414f1"
      },
      "outputs": [],
      "source": [
        "# Creating the DataFrame\n",
        "#Cria um dataframe com uma coluna chamada values e cinco linhas com os valores fornecidos. Usa-se a biblioteca pandas.\n",
        "data = pd.DataFrame({'values': [10, 20, 30, 40, 50]})\n",
        "#Imprime o dataframe criado e armazenado na variável 'data'.\n",
        "print(data)"
      ]
    },
    {
      "cell_type": "markdown",
      "id": "e3722a78",
      "metadata": {
        "id": "e3722a78"
      },
      "source": [
        "## 1. Mean\n",
        "The mean is the sum of all values divided by the number of values."
      ]
    },
    {
      "cell_type": "code",
      "execution_count": null,
      "id": "8e617b70",
      "metadata": {
        "id": "8e617b70"
      },
      "outputs": [],
      "source": [
        "# Example of calculating the mean\n",
        "#A partir de o metodo (mean) da biblioteca 'pandas', calcula-se a média dos valores da coluna 'values' do dataframe criado acima.\n",
        "mean = data['values'].mean()\n",
        "#Imprime a média dos valores armazenados no dataframe. A média está armazenada na variável 'mean'.\n",
        "print(\"Mean:\", mean)"
      ]
    },
    {
      "cell_type": "markdown",
      "id": "e15053b1",
      "metadata": {
        "id": "e15053b1"
      },
      "source": [
        "## 2. Median\n",
        "The median is the middle value when the data is ordered."
      ]
    },
    {
      "cell_type": "code",
      "execution_count": null,
      "id": "6eb4da6b",
      "metadata": {
        "id": "6eb4da6b"
      },
      "outputs": [],
      "source": [
        "# Example of calculating the median\n",
        "#A partir de o metodo (median) da biblioteca 'pandas', calcula-se a mediana do valores da coluna 'values' do dataframe criado acima.\n",
        "median = data['values'].median()\n",
        "#Imprime a mediana dos valores armazenados no dataframe. A mediana foi armazenada na variável 'median'.\n",
        "print(\"Median:\", median)"
      ]
    },
    {
      "cell_type": "markdown",
      "id": "7bdbe0ef",
      "metadata": {
        "id": "7bdbe0ef"
      },
      "source": [
        "## 3. Mode\n",
        "The mode is the value that appears most frequently in the data."
      ]
    },
    {
      "cell_type": "code",
      "execution_count": null,
      "id": "715d64c5",
      "metadata": {
        "id": "715d64c5"
      },
      "outputs": [],
      "source": [
        "# Example of calculating the mode\n",
        "#A partir de o metodo (mode) da biblioteca 'pandas', calcula-se a moda do valores da coluna 'values' do dataframe criado acima.\n",
        "mode = data['values'].mode()\n",
        "#Imprime a moda dos valores armazenados no dataframe. A moda foi armazenada na variável 'mode'.\n",
        "print(\"Mode:\", mode[0])"
      ]
    },
    {
      "cell_type": "markdown",
      "id": "d2a707fd",
      "metadata": {
        "id": "d2a707fd"
      },
      "source": [
        "## 4. Standard Deviation\n",
        "The standard deviation measures the dispersion of the data relative to the mean."
      ]
    },
    {
      "cell_type": "code",
      "execution_count": null,
      "id": "000bba44",
      "metadata": {
        "id": "000bba44"
      },
      "outputs": [],
      "source": [
        "# Example of calculating the standard deviation\n",
        "#A partir de o metodo (std) da biblioteca 'pandas', calcula-se o desvio padrão do valores da coluna 'values' do dataframe criado acima.\n",
        "std_dev = data['values'].std()\n",
        "#Imprime o desvio padrão dos valores armazenados no dataframe. O desvio padrão está armazenado na variável 'std_dev'.\n",
        "print(\"Standard Deviation:\", std_dev)"
      ]
    },
    {
      "cell_type": "markdown",
      "id": "96415f42",
      "metadata": {
        "id": "96415f42"
      },
      "source": [
        "## 5. Variance\n",
        "The variance is the square of the standard deviation."
      ]
    },
    {
      "cell_type": "code",
      "execution_count": null,
      "id": "5e88e1cd",
      "metadata": {
        "id": "5e88e1cd"
      },
      "outputs": [],
      "source": [
        "# Example of calculating the variance\n",
        "#A partir de o metodo (var) da biblioteca 'pandas', calcula-se a variancia do valores da coluna 'values' do dataframe criado acima.\n",
        "variance = data['values'].var()\n",
        "#Imprime a variancia dos valores armazenados no dataframe. A variancia está armazenada na variável 'variance'.\n",
        "print(\"Variance:\", variance)"
      ]
    },
    {
      "cell_type": "markdown",
      "id": "a221087d",
      "metadata": {
        "id": "a221087d"
      },
      "source": [
        "## 6. Quartiles and Percentiles\n",
        "Quartiles divide the data into four equal parts. Percentiles are similar but divide the data into 100 equal parts."
      ]
    },
    {
      "cell_type": "code",
      "execution_count": null,
      "id": "3bc76b5f",
      "metadata": {
        "id": "3bc76b5f"
      },
      "outputs": [],
      "source": [
        "# Example of calculating quartiles\n",
        "#Usando o metodo (quantile) da biblioteca 'pandas', são calculados os valores do 1°,2° e 3° Quartis, a partir dos valores do dataframe.\n",
        "Q1 = data['values'].quantile(0.25)\n",
        "Q2 = data['values'].quantile(0.50)\n",
        "Q3 = data['values'].quantile(0.75)\n",
        "#Imprime os quartis calculados acima, e que estão armazenados nas variáveis Q1,Q2 e Q3.\n",
        "print(\"1st Quartile (Q1):\", Q1)\n",
        "print(\"2nd Quartile (Q2):\", Q2)  # This is the same as the median\n",
        "print(\"3rd Quartile (Q3):\", Q3)\n",
        "\n",
        "# Example of calculating percentiles\n",
        "#Usando o metodo (quantile) da biblioteca 'pandas', são calculados os valores do 90° percentil, a partir dos valores que estão no dataframe.\n",
        "percentile_90 = data['values'].quantile(0.90)\n",
        "#Imprime o valor do 90° percentil, que está armazenada na variável 'percentile_90'.\n",
        "print(\"90th Percentile:\", percentile_90)"
      ]
    },
    {
      "cell_type": "markdown",
      "id": "45efab78",
      "metadata": {
        "id": "45efab78"
      },
      "source": [
        "## Data Visualisation\n",
        "Let's use a boxplot to visualise the distribution of the data."
      ]
    },
    {
      "cell_type": "code",
      "execution_count": null,
      "id": "29165df6",
      "metadata": {
        "id": "29165df6"
      },
      "outputs": [],
      "source": [
        "# Example of visualisation with boxplot\n",
        "#Usando o método (boxplot) da biblioteca matplotlib, cria-se um boxplot com os valores da coluna 'values' do dataframe.\n",
        "plt.boxplot(data['values'])\n",
        "#Adiciona o título (Boxplot of the Data) ao gráfico.\n",
        "plt.title(\"Boxplot of the Data\")\n",
        "#Exibe o gráfico\n",
        "plt.show()"
      ]
    },
    {
      "cell_type": "markdown",
      "id": "e21e8421",
      "metadata": {
        "id": "e21e8421"
      },
      "source": [
        "## Conclusion\n",
        "In this notebook, we covered some basic statistical measures, including mean, median, mode, standard deviation, variance, quartiles, and percentiles. Additionally, we visualised the distribution of the data using a boxplot. We hope this notebook helps you better understand these measures and how to apply them to your data."
      ]
    }
  ],
  "metadata": {
    "colab": {
      "provenance": [],
      "include_colab_link": true
    },
    "language_info": {
      "name": "python"
    },
    "kernelspec": {
      "name": "python3",
      "display_name": "Python 3"
    }
  },
  "nbformat": 4,
  "nbformat_minor": 5
}