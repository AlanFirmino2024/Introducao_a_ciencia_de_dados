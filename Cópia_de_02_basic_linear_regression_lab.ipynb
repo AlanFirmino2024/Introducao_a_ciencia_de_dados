{
  "cells": [
    {
      "cell_type": "markdown",
      "metadata": {
        "id": "view-in-github",
        "colab_type": "text"
      },
      "source": [
        "<a href=\"https://colab.research.google.com/github/AlanFirmino2024/Introducao_a_ciencia_de_dados/blob/main/C%C3%B3pia_de_02_basic_linear_regression_lab.ipynb\" target=\"_parent\"><img src=\"https://colab.research.google.com/assets/colab-badge.svg\" alt=\"Open In Colab\"/></a>"
      ]
    },
    {
      "cell_type": "markdown",
      "id": "557bb495",
      "metadata": {
        "id": "557bb495"
      },
      "source": [
        "## 1. Introduction\n",
        "This notebook provides an introduction to linear regression. We will create a synthetic dataset, fit a linear regression model, and evaluate its performance."
      ]
    },
    {
      "cell_type": "markdown",
      "source": [
        "## 2. Importing Libraries"
      ],
      "metadata": {
        "id": "sf00cQapSS3_"
      },
      "id": "sf00cQapSS3_"
    },
    {
      "cell_type": "code",
      "execution_count": 2,
      "id": "eb58c073",
      "metadata": {
        "id": "eb58c073"
      },
      "outputs": [],
      "source": [
        "#Importando a biblioteca numpy e abreviando para deixar o código mais consiso\n",
        "import numpy as np\n",
        "#Importando a biblioteca pandas e abreviando para deixar o código mais consiso\n",
        "import pandas as pd\n",
        "#Importando a biblioteca matplotlib e abreviando para deixar o código mais consiso\n",
        "import matplotlib.pyplot as plt\n",
        "#Importa a classe LinearRegression da biblioteca \"scikit-learn\", para criar uma regressão linear\n",
        "from sklearn.linear_model import LinearRegression\n",
        "#Importa duas funções estatísticas para utilização em método de regressão linear (MSE e R^2)\n",
        "from sklearn.metrics import mean_squared_error, r2_score"
      ]
    },
    {
      "cell_type": "markdown",
      "id": "2a230dfe",
      "metadata": {
        "id": "2a230dfe"
      },
      "source": [
        "## 3. Creating the Synthetic Dataset\n",
        "Defining the size of the dataset."
      ]
    },
    {
      "cell_type": "code",
      "execution_count": 3,
      "id": "c80bf1e9",
      "metadata": {
        "id": "c80bf1e9",
        "colab": {
          "base_uri": "https://localhost:8080/",
          "height": 363
        },
        "outputId": "3a46bc69-1457-4b4c-fd2a-43f4d18e5f15"
      },
      "outputs": [
        {
          "output_type": "execute_result",
          "data": {
            "text/plain": [
              "    Feature     Target\n",
              "0  0.749080   6.985707\n",
              "1  1.901429   9.875654\n",
              "2  1.463988   8.276315\n",
              "3  1.197317   7.290847\n",
              "4  0.312037   3.457590\n",
              "5  0.311989   4.216123\n",
              "6  0.116167   3.887863\n",
              "7  1.732352  10.254179\n",
              "8  1.202230   7.950308\n",
              "9  1.416145   6.485395"
            ],
            "text/html": [
              "\n",
              "  <div id=\"df-d59b1038-7dfa-43b3-87ed-21b20df6c29d\" class=\"colab-df-container\">\n",
              "    <div>\n",
              "<style scoped>\n",
              "    .dataframe tbody tr th:only-of-type {\n",
              "        vertical-align: middle;\n",
              "    }\n",
              "\n",
              "    .dataframe tbody tr th {\n",
              "        vertical-align: top;\n",
              "    }\n",
              "\n",
              "    .dataframe thead th {\n",
              "        text-align: right;\n",
              "    }\n",
              "</style>\n",
              "<table border=\"1\" class=\"dataframe\">\n",
              "  <thead>\n",
              "    <tr style=\"text-align: right;\">\n",
              "      <th></th>\n",
              "      <th>Feature</th>\n",
              "      <th>Target</th>\n",
              "    </tr>\n",
              "  </thead>\n",
              "  <tbody>\n",
              "    <tr>\n",
              "      <th>0</th>\n",
              "      <td>0.749080</td>\n",
              "      <td>6.985707</td>\n",
              "    </tr>\n",
              "    <tr>\n",
              "      <th>1</th>\n",
              "      <td>1.901429</td>\n",
              "      <td>9.875654</td>\n",
              "    </tr>\n",
              "    <tr>\n",
              "      <th>2</th>\n",
              "      <td>1.463988</td>\n",
              "      <td>8.276315</td>\n",
              "    </tr>\n",
              "    <tr>\n",
              "      <th>3</th>\n",
              "      <td>1.197317</td>\n",
              "      <td>7.290847</td>\n",
              "    </tr>\n",
              "    <tr>\n",
              "      <th>4</th>\n",
              "      <td>0.312037</td>\n",
              "      <td>3.457590</td>\n",
              "    </tr>\n",
              "    <tr>\n",
              "      <th>5</th>\n",
              "      <td>0.311989</td>\n",
              "      <td>4.216123</td>\n",
              "    </tr>\n",
              "    <tr>\n",
              "      <th>6</th>\n",
              "      <td>0.116167</td>\n",
              "      <td>3.887863</td>\n",
              "    </tr>\n",
              "    <tr>\n",
              "      <th>7</th>\n",
              "      <td>1.732352</td>\n",
              "      <td>10.254179</td>\n",
              "    </tr>\n",
              "    <tr>\n",
              "      <th>8</th>\n",
              "      <td>1.202230</td>\n",
              "      <td>7.950308</td>\n",
              "    </tr>\n",
              "    <tr>\n",
              "      <th>9</th>\n",
              "      <td>1.416145</td>\n",
              "      <td>6.485395</td>\n",
              "    </tr>\n",
              "  </tbody>\n",
              "</table>\n",
              "</div>\n",
              "    <div class=\"colab-df-buttons\">\n",
              "\n",
              "  <div class=\"colab-df-container\">\n",
              "    <button class=\"colab-df-convert\" onclick=\"convertToInteractive('df-d59b1038-7dfa-43b3-87ed-21b20df6c29d')\"\n",
              "            title=\"Convert this dataframe to an interactive table.\"\n",
              "            style=\"display:none;\">\n",
              "\n",
              "  <svg xmlns=\"http://www.w3.org/2000/svg\" height=\"24px\" viewBox=\"0 -960 960 960\">\n",
              "    <path d=\"M120-120v-720h720v720H120Zm60-500h600v-160H180v160Zm220 220h160v-160H400v160Zm0 220h160v-160H400v160ZM180-400h160v-160H180v160Zm440 0h160v-160H620v160ZM180-180h160v-160H180v160Zm440 0h160v-160H620v160Z\"/>\n",
              "  </svg>\n",
              "    </button>\n",
              "\n",
              "  <style>\n",
              "    .colab-df-container {\n",
              "      display:flex;\n",
              "      gap: 12px;\n",
              "    }\n",
              "\n",
              "    .colab-df-convert {\n",
              "      background-color: #E8F0FE;\n",
              "      border: none;\n",
              "      border-radius: 50%;\n",
              "      cursor: pointer;\n",
              "      display: none;\n",
              "      fill: #1967D2;\n",
              "      height: 32px;\n",
              "      padding: 0 0 0 0;\n",
              "      width: 32px;\n",
              "    }\n",
              "\n",
              "    .colab-df-convert:hover {\n",
              "      background-color: #E2EBFA;\n",
              "      box-shadow: 0px 1px 2px rgba(60, 64, 67, 0.3), 0px 1px 3px 1px rgba(60, 64, 67, 0.15);\n",
              "      fill: #174EA6;\n",
              "    }\n",
              "\n",
              "    .colab-df-buttons div {\n",
              "      margin-bottom: 4px;\n",
              "    }\n",
              "\n",
              "    [theme=dark] .colab-df-convert {\n",
              "      background-color: #3B4455;\n",
              "      fill: #D2E3FC;\n",
              "    }\n",
              "\n",
              "    [theme=dark] .colab-df-convert:hover {\n",
              "      background-color: #434B5C;\n",
              "      box-shadow: 0px 1px 3px 1px rgba(0, 0, 0, 0.15);\n",
              "      filter: drop-shadow(0px 1px 2px rgba(0, 0, 0, 0.3));\n",
              "      fill: #FFFFFF;\n",
              "    }\n",
              "  </style>\n",
              "\n",
              "    <script>\n",
              "      const buttonEl =\n",
              "        document.querySelector('#df-d59b1038-7dfa-43b3-87ed-21b20df6c29d button.colab-df-convert');\n",
              "      buttonEl.style.display =\n",
              "        google.colab.kernel.accessAllowed ? 'block' : 'none';\n",
              "\n",
              "      async function convertToInteractive(key) {\n",
              "        const element = document.querySelector('#df-d59b1038-7dfa-43b3-87ed-21b20df6c29d');\n",
              "        const dataTable =\n",
              "          await google.colab.kernel.invokeFunction('convertToInteractive',\n",
              "                                                    [key], {});\n",
              "        if (!dataTable) return;\n",
              "\n",
              "        const docLinkHtml = 'Like what you see? Visit the ' +\n",
              "          '<a target=\"_blank\" href=https://colab.research.google.com/notebooks/data_table.ipynb>data table notebook</a>'\n",
              "          + ' to learn more about interactive tables.';\n",
              "        element.innerHTML = '';\n",
              "        dataTable['output_type'] = 'display_data';\n",
              "        await google.colab.output.renderOutput(dataTable, element);\n",
              "        const docLink = document.createElement('div');\n",
              "        docLink.innerHTML = docLinkHtml;\n",
              "        element.appendChild(docLink);\n",
              "      }\n",
              "    </script>\n",
              "  </div>\n",
              "\n",
              "\n",
              "<div id=\"df-d6ddf267-d74f-4681-92a0-dbe6f0cd1df7\">\n",
              "  <button class=\"colab-df-quickchart\" onclick=\"quickchart('df-d6ddf267-d74f-4681-92a0-dbe6f0cd1df7')\"\n",
              "            title=\"Suggest charts\"\n",
              "            style=\"display:none;\">\n",
              "\n",
              "<svg xmlns=\"http://www.w3.org/2000/svg\" height=\"24px\"viewBox=\"0 0 24 24\"\n",
              "     width=\"24px\">\n",
              "    <g>\n",
              "        <path d=\"M19 3H5c-1.1 0-2 .9-2 2v14c0 1.1.9 2 2 2h14c1.1 0 2-.9 2-2V5c0-1.1-.9-2-2-2zM9 17H7v-7h2v7zm4 0h-2V7h2v10zm4 0h-2v-4h2v4z\"/>\n",
              "    </g>\n",
              "</svg>\n",
              "  </button>\n",
              "\n",
              "<style>\n",
              "  .colab-df-quickchart {\n",
              "      --bg-color: #E8F0FE;\n",
              "      --fill-color: #1967D2;\n",
              "      --hover-bg-color: #E2EBFA;\n",
              "      --hover-fill-color: #174EA6;\n",
              "      --disabled-fill-color: #AAA;\n",
              "      --disabled-bg-color: #DDD;\n",
              "  }\n",
              "\n",
              "  [theme=dark] .colab-df-quickchart {\n",
              "      --bg-color: #3B4455;\n",
              "      --fill-color: #D2E3FC;\n",
              "      --hover-bg-color: #434B5C;\n",
              "      --hover-fill-color: #FFFFFF;\n",
              "      --disabled-bg-color: #3B4455;\n",
              "      --disabled-fill-color: #666;\n",
              "  }\n",
              "\n",
              "  .colab-df-quickchart {\n",
              "    background-color: var(--bg-color);\n",
              "    border: none;\n",
              "    border-radius: 50%;\n",
              "    cursor: pointer;\n",
              "    display: none;\n",
              "    fill: var(--fill-color);\n",
              "    height: 32px;\n",
              "    padding: 0;\n",
              "    width: 32px;\n",
              "  }\n",
              "\n",
              "  .colab-df-quickchart:hover {\n",
              "    background-color: var(--hover-bg-color);\n",
              "    box-shadow: 0 1px 2px rgba(60, 64, 67, 0.3), 0 1px 3px 1px rgba(60, 64, 67, 0.15);\n",
              "    fill: var(--button-hover-fill-color);\n",
              "  }\n",
              "\n",
              "  .colab-df-quickchart-complete:disabled,\n",
              "  .colab-df-quickchart-complete:disabled:hover {\n",
              "    background-color: var(--disabled-bg-color);\n",
              "    fill: var(--disabled-fill-color);\n",
              "    box-shadow: none;\n",
              "  }\n",
              "\n",
              "  .colab-df-spinner {\n",
              "    border: 2px solid var(--fill-color);\n",
              "    border-color: transparent;\n",
              "    border-bottom-color: var(--fill-color);\n",
              "    animation:\n",
              "      spin 1s steps(1) infinite;\n",
              "  }\n",
              "\n",
              "  @keyframes spin {\n",
              "    0% {\n",
              "      border-color: transparent;\n",
              "      border-bottom-color: var(--fill-color);\n",
              "      border-left-color: var(--fill-color);\n",
              "    }\n",
              "    20% {\n",
              "      border-color: transparent;\n",
              "      border-left-color: var(--fill-color);\n",
              "      border-top-color: var(--fill-color);\n",
              "    }\n",
              "    30% {\n",
              "      border-color: transparent;\n",
              "      border-left-color: var(--fill-color);\n",
              "      border-top-color: var(--fill-color);\n",
              "      border-right-color: var(--fill-color);\n",
              "    }\n",
              "    40% {\n",
              "      border-color: transparent;\n",
              "      border-right-color: var(--fill-color);\n",
              "      border-top-color: var(--fill-color);\n",
              "    }\n",
              "    60% {\n",
              "      border-color: transparent;\n",
              "      border-right-color: var(--fill-color);\n",
              "    }\n",
              "    80% {\n",
              "      border-color: transparent;\n",
              "      border-right-color: var(--fill-color);\n",
              "      border-bottom-color: var(--fill-color);\n",
              "    }\n",
              "    90% {\n",
              "      border-color: transparent;\n",
              "      border-bottom-color: var(--fill-color);\n",
              "    }\n",
              "  }\n",
              "</style>\n",
              "\n",
              "  <script>\n",
              "    async function quickchart(key) {\n",
              "      const quickchartButtonEl =\n",
              "        document.querySelector('#' + key + ' button');\n",
              "      quickchartButtonEl.disabled = true;  // To prevent multiple clicks.\n",
              "      quickchartButtonEl.classList.add('colab-df-spinner');\n",
              "      try {\n",
              "        const charts = await google.colab.kernel.invokeFunction(\n",
              "            'suggestCharts', [key], {});\n",
              "      } catch (error) {\n",
              "        console.error('Error during call to suggestCharts:', error);\n",
              "      }\n",
              "      quickchartButtonEl.classList.remove('colab-df-spinner');\n",
              "      quickchartButtonEl.classList.add('colab-df-quickchart-complete');\n",
              "    }\n",
              "    (() => {\n",
              "      let quickchartButtonEl =\n",
              "        document.querySelector('#df-d6ddf267-d74f-4681-92a0-dbe6f0cd1df7 button');\n",
              "      quickchartButtonEl.style.display =\n",
              "        google.colab.kernel.accessAllowed ? 'block' : 'none';\n",
              "    })();\n",
              "  </script>\n",
              "</div>\n",
              "\n",
              "    </div>\n",
              "  </div>\n"
            ],
            "application/vnd.google.colaboratory.intrinsic+json": {
              "type": "dataframe",
              "variable_name": "data",
              "summary": "{\n  \"name\": \"data\",\n  \"rows\": 50,\n  \"fields\": [\n    {\n      \"column\": \"Feature\",\n      \"properties\": {\n        \"dtype\": \"number\",\n        \"std\": 0.5777664019593174,\n        \"min\": 0.041168988591604894,\n        \"max\": 1.9398197043239886,\n        \"num_unique_values\": 50,\n        \"samples\": [\n          0.4246782213565523,\n          0.8803049874792026,\n          1.2150897038028767\n        ],\n        \"semantic_type\": \"\",\n        \"description\": \"\"\n      }\n    },\n    {\n      \"column\": \"Target\",\n      \"properties\": {\n        \"dtype\": \"number\",\n        \"std\": 1.903839457886751,\n        \"min\": 3.457589852287192,\n        \"max\": 11.257956879334007,\n        \"num_unique_values\": 50,\n        \"samples\": [\n          5.885710952910524,\n          4.653346047836715,\n          8.006664716917044\n        ],\n        \"semantic_type\": \"\",\n        \"description\": \"\"\n      }\n    }\n  ]\n}"
            }
          },
          "metadata": {},
          "execution_count": 3
        }
      ],
      "source": [
        "# Generating random data\n",
        "#Atribuição de valor a variável n_samples\n",
        "n_samples = 50\n",
        "#Define a semente (seed) para o gerador de números aleatórios do NumPy.\n",
        "#Isso garante que a sequência de números aleatórios gerada seja a mesma sempre que o código for executado.\n",
        "np.random.seed(42)\n",
        "#Gera uma matriz X com n_samples linhas e 1 coluna, onde cada elemento é um número entre 0 e 2.\n",
        "X = 2 * np.random.rand(n_samples, 1)\n",
        "#Gera uma matriz y com n_samples linhas e 1 coluna, onde cada elemento é calculado como:\n",
        "#\"4+3*X é uma relação linear sendo 4 a interceptação com o eixo e 3 o coeficiente angular\" e\n",
        "# \"np.random.randn(n_samples, 1) adiciona um ruído aleatório seguindo uma distribuição normal\"\n",
        "y = 4 + 3 * X + np.random.randn(n_samples, 1)\n",
        "\n",
        "# Creating a DataFrame\n",
        "#Cria um dataframe a partir da concatenação das matrizes 'X' e 'y'. E o parâmetro 'columns' define os nomes das colunas.\n",
        "data = pd.DataFrame(data=np.hstack((X, y)), columns=['Feature', 'Target'])\n",
        "\n",
        "# Displaying the first few rows of the dataset\n",
        "#A partir do metodo '.head(10)', é possivel retornar as 10 primeiras linhas do dataframe.\n",
        "data.head(10)"
      ]
    },
    {
      "cell_type": "markdown",
      "id": "61ebf00a",
      "metadata": {
        "id": "61ebf00a"
      },
      "source": [
        "## 4. Exploratory Data Analysis (EDA)\n",
        "Visualising the relationship between Feature and Target"
      ]
    },
    {
      "cell_type": "code",
      "execution_count": null,
      "id": "9f65c7f2",
      "metadata": {
        "id": "9f65c7f2",
        "colab": {
          "base_uri": "https://localhost:8080/",
          "height": 472
        },
        "outputId": "22e72247-1362-49f1-f056-17842d223d72"
      },
      "outputs": [
        {
          "output_type": "display_data",
          "data": {
            "text/plain": [
              "<Figure size 640x480 with 1 Axes>"
            ],
            "image/png": "[encoded data removed]"
          },
          "metadata": {}
        }
      ],
      "source": [
        "#Cria um grafico de dispersão com as colunas Feature (EixoX) e Target(EixoY)\n",
        "plt.scatter(data['Feature'], data['Target'])\n",
        "#Define o rótulo do eixo x como \"Feature\"\n",
        "plt.xlabel('Feature')\n",
        "#Define o rótulo do eixo y como \"Target\"\n",
        "plt.ylabel('Target')\n",
        "#Define o título do gráfico como \"Feature vs Target\"\n",
        "plt.title('Feature vs Target')\n",
        "#Exibe o gráfico plotado na tela.\n",
        "plt.show()"
      ]
    },
    {
      "cell_type": "markdown",
      "id": "48eda29d",
      "metadata": {
        "id": "48eda29d"
      },
      "source": [
        "## 5. Training the Linear Regression Model"
      ]
    },
    {
      "cell_type": "code",
      "execution_count": 4,
      "id": "61bd1491",
      "metadata": {
        "id": "61bd1491",
        "colab": {
          "base_uri": "https://localhost:8080/",
          "height": 75
        },
        "outputId": "9ac07f7b-8896-48c0-a0c2-451b2805ebff"
      },
      "outputs": [
        {
          "output_type": "execute_result",
          "data": {
            "text/plain": [
              "LinearRegression()"
            ],
            "text/html": [
              "<style>#sk-container-id-1 {color: black;background-color: white;}#sk-container-id-1 pre{padding: 0;}#sk-container-id-1 div.sk-toggleable {background-color: white;}#sk-container-id-1 label.sk-toggleable__label {cursor: pointer;display: block;width: 100%;margin-bottom: 0;padding: 0.3em;box-sizing: border-box;text-align: center;}#sk-container-id-1 label.sk-toggleable__label-arrow:before {content: \"▸\";float: left;margin-right: 0.25em;color: #696969;}#sk-container-id-1 label.sk-toggleable__label-arrow:hover:before {color: black;}#sk-container-id-1 div.sk-estimator:hover label.sk-toggleable__label-arrow:before {color: black;}#sk-container-id-1 div.sk-toggleable__content {max-height: 0;max-width: 0;overflow: hidden;text-align: left;background-color: #f0f8ff;}#sk-container-id-1 div.sk-toggleable__content pre {margin: 0.2em;color: black;border-radius: 0.25em;background-color: #f0f8ff;}#sk-container-id-1 input.sk-toggleable__control:checked~div.sk-toggleable__content {max-height: 200px;max-width: 100%;overflow: auto;}#sk-container-id-1 input.sk-toggleable__control:checked~label.sk-toggleable__label-arrow:before {content: \"▾\";}#sk-container-id-1 div.sk-estimator input.sk-toggleable__control:checked~label.sk-toggleable__label {background-color: #d4ebff;}#sk-container-id-1 div.sk-label input.sk-toggleable__control:checked~label.sk-toggleable__label {background-color: #d4ebff;}#sk-container-id-1 input.sk-hidden--visually {border: 0;clip: rect(1px 1px 1px 1px);clip: rect(1px, 1px, 1px, 1px);height: 1px;margin: -1px;overflow: hidden;padding: 0;position: absolute;width: 1px;}#sk-container-id-1 div.sk-estimator {font-family: monospace;background-color: #f0f8ff;border: 1px dotted black;border-radius: 0.25em;box-sizing: border-box;margin-bottom: 0.5em;}#sk-container-id-1 div.sk-estimator:hover {background-color: #d4ebff;}#sk-container-id-1 div.sk-parallel-item::after {content: \"\";width: 100%;border-bottom: 1px solid gray;flex-grow: 1;}#sk-container-id-1 div.sk-label:hover label.sk-toggleable__label {background-color: #d4ebff;}#sk-container-id-1 div.sk-serial::before {content: \"\";position: absolute;border-left: 1px solid gray;box-sizing: border-box;top: 0;bottom: 0;left: 50%;z-index: 0;}#sk-container-id-1 div.sk-serial {display: flex;flex-direction: column;align-items: center;background-color: white;padding-right: 0.2em;padding-left: 0.2em;position: relative;}#sk-container-id-1 div.sk-item {position: relative;z-index: 1;}#sk-container-id-1 div.sk-parallel {display: flex;align-items: stretch;justify-content: center;background-color: white;position: relative;}#sk-container-id-1 div.sk-item::before, #sk-container-id-1 div.sk-parallel-item::before {content: \"\";position: absolute;border-left: 1px solid gray;box-sizing: border-box;top: 0;bottom: 0;left: 50%;z-index: -1;}#sk-container-id-1 div.sk-parallel-item {display: flex;flex-direction: column;z-index: 1;position: relative;background-color: white;}#sk-container-id-1 div.sk-parallel-item:first-child::after {align-self: flex-end;width: 50%;}#sk-container-id-1 div.sk-parallel-item:last-child::after {align-self: flex-start;width: 50%;}#sk-container-id-1 div.sk-parallel-item:only-child::after {width: 0;}#sk-container-id-1 div.sk-dashed-wrapped {border: 1px dashed gray;margin: 0 0.4em 0.5em 0.4em;box-sizing: border-box;padding-bottom: 0.4em;background-color: white;}#sk-container-id-1 div.sk-label label {font-family: monospace;font-weight: bold;display: inline-block;line-height: 1.2em;}#sk-container-id-1 div.sk-label-container {text-align: center;}#sk-container-id-1 div.sk-container {/* jupyter's `normalize.less` sets `[hidden] { display: none; }` but bootstrap.min.css set `[hidden] { display: none !important; }` so we also need the `!important` here to be able to override the default hidden behavior on the sphinx rendered scikit-learn.org. See: https://github.com/scikit-learn/scikit-learn/issues/21755 */display: inline-block !important;position: relative;}#sk-container-id-1 div.sk-text-repr-fallback {display: none;}</style><div id=\"sk-container-id-1\" class=\"sk-top-container\"><div class=\"sk-text-repr-fallback\"><pre>LinearRegression()</pre><b>In a Jupyter environment, please rerun this cell to show the HTML representation or trust the notebook. <br />On GitHub, the HTML representation is unable to render, please try loading this page with nbviewer.org.</b></div><div class=\"sk-container\" hidden><div class=\"sk-item\"><div class=\"sk-estimator sk-toggleable\"><input class=\"sk-toggleable__control sk-hidden--visually\" id=\"sk-estimator-id-1\" type=\"checkbox\" checked><label for=\"sk-estimator-id-1\" class=\"sk-toggleable__label sk-toggleable__label-arrow\">LinearRegression</label><div class=\"sk-toggleable__content\"><pre>LinearRegression()</pre></div></div></div></div></div>"
            ]
          },
          "metadata": {},
          "execution_count": 4
        }
      ],
      "source": [
        "#Cria um modelo de regressão linear\n",
        "model = LinearRegression()\n",
        "#A partir do metodo '.fit', os dados da coluna 'Feature' e 'Target' do dataframe são ajustados ao modelo criado.\n",
        "model.fit(data[['Feature']], data['Target'])"
      ]
    },
    {
      "cell_type": "markdown",
      "id": "a8bad09a",
      "metadata": {
        "id": "a8bad09a"
      },
      "source": [
        "## 6. Evaluating the Model"
      ]
    },
    {
      "cell_type": "code",
      "execution_count": 5,
      "id": "6cca45ab",
      "metadata": {
        "id": "6cca45ab",
        "outputId": "20c69a07-bc98-4506-83c6-e5b8dc4fe240",
        "colab": {
          "base_uri": "https://localhost:8080/"
        }
      },
      "outputs": [
        {
          "output_type": "stream",
          "name": "stdout",
          "text": [
            "MSE: 0.8230711437486876\n",
            "R²: 0.7682868649545074\n"
          ]
        }
      ],
      "source": [
        "#O metodo '.predict', faz previsões do modelo ajustado e armazena na matriz 'y_pred'.\n",
        "y_pred = model.predict(data[['Feature']])\n",
        "#Calcula o erro quadrático médio entre os valores reais (data['Target']) e as previsões (y_pred).\n",
        "mse = mean_squared_error(data['Target'], y_pred)\n",
        "#Calcula o coeficiente de determinação (R²) para avaliar o ajuste do modelo aos dados.\n",
        "r2 = r2_score(data['Target'], y_pred)\n",
        "#Imprime o erro quadratico médio (MSE).\n",
        "print(f'MSE: {mse}')\n",
        "#Imprime o coeficiente de determinação (R^2).\n",
        "print(f'R²: {r2}')"
      ]
    },
    {
      "cell_type": "markdown",
      "id": "2fea9262",
      "metadata": {
        "id": "2fea9262"
      },
      "source": [
        "## 7. Visualising the Results"
      ]
    },
    {
      "cell_type": "code",
      "execution_count": 7,
      "id": "c249d936",
      "metadata": {
        "id": "c249d936",
        "colab": {
          "base_uri": "https://localhost:8080/",
          "height": 472
        },
        "outputId": "a19ef7ef-8b4d-4451-8d4e-3db734621a89"
      },
      "outputs": [
        {
          "output_type": "display_data",
          "data": {
            "text/plain": [
              "<Figure size 640x480 with 1 Axes>"
            ],
            "image/png": "[encoded data removed]"
          },
          "metadata": {}
        }
      ],
      "source": [
        "#O método '.scatter', cria um gráfico de dispersão com os dados reais, e formata-os especificando cor e legenda.\n",
        "plt.scatter(data['Feature'], data['Target'], color='black', label='Actual Data')\n",
        "#O método '.plot' cria uma linha de regressão ajustada, e formata-os especificando cor e legenda.\n",
        "plt.plot(data['Feature'], y_pred, color='blue', linewidth=3, label='Predictions')\n",
        "#Define o rótulo do eixo x como \"Feature\"\n",
        "plt.xlabel('Feature')\n",
        "#Define o rótulo do eixo y como \"Target\"\n",
        "plt.ylabel('Target')\n",
        "#Define o título do gráfico como \"Linear Regression Model\"\n",
        "plt.title('Linear Regression Model')\n",
        "#Adiciona uma legenda ao gráfico para identificar os pontos reais e a linha de regressão.\n",
        "plt.legend()\n",
        "#Exibe o gráfico plotado abaixo.\n",
        "plt.show()"
      ]
    },
    {
      "cell_type": "markdown",
      "id": "bb5a8748",
      "metadata": {
        "id": "bb5a8748"
      },
      "source": [
        "## 8. Conclusion\n",
        "In this notebook, we created a synthetic dataset and fitted a linear regression model. We evaluated the model's performance using MSE and R², and visualised the results. This is a basic example to demonstrate the fundamentals of linear regression."
      ]
    }
  ],
  "metadata": {
    "colab": {
      "provenance": [],
      "include_colab_link": true
    },
    "language_info": {
      "name": "python"
    },
    "kernelspec": {
      "name": "python3",
      "display_name": "Python 3"
    }
  },
  "nbformat": 4,
  "nbformat_minor": 5
}